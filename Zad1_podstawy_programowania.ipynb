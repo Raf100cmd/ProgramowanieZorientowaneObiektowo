{
 "cells": [
  {
   "cell_type": "code",
   "execution_count": null,
   "id": "d7339902-44ae-4665-a956-55704ddd3715",
   "metadata": {},
   "outputs": [
    {
     "name": "stdout",
     "output_type": "stream",
     "text": [
      "\n",
      "=== MENU ===\n",
      "1 - Kalkulator\n",
      "2 - Konwerter temperatur\n",
      "3 - Średnia ocen\n",
      "0 - Wyjście\n"
     ]
    },
    {
     "name": "stdin",
     "output_type": "stream",
     "text": [
      "Wybierz opcję:  3\n",
      "Podaj liczbę ocen:  -1\n"
     ]
    },
    {
     "name": "stdout",
     "output_type": "stream",
     "text": [
      "Błąd: Liczba ocen musi być większa od zera.\n"
     ]
    },
    {
     "name": "stdin",
     "output_type": "stream",
     "text": [
      "Podaj liczbę ocen:  0\n"
     ]
    },
    {
     "name": "stdout",
     "output_type": "stream",
     "text": [
      "Błąd: Liczba ocen musi być większa od zera.\n"
     ]
    },
    {
     "name": "stdin",
     "output_type": "stream",
     "text": [
      "Podaj liczbę ocen:  uu\n"
     ]
    },
    {
     "name": "stdout",
     "output_type": "stream",
     "text": [
      "Błąd: Wprowadź poprawną liczbę całkowitą.\n"
     ]
    },
    {
     "name": "stdin",
     "output_type": "stream",
     "text": [
      "Podaj liczbę ocen:  2\n",
      "Podaj ocenę 1:  -1\n"
     ]
    },
    {
     "name": "stdout",
     "output_type": "stream",
     "text": [
      "Błąd: Ocena musi być w zakresie od 1 do 6.\n"
     ]
    },
    {
     "name": "stdin",
     "output_type": "stream",
     "text": [
      "Podaj ocenę 1:  oo\n"
     ]
    },
    {
     "name": "stdout",
     "output_type": "stream",
     "text": [
      "Błąd: Wprowadź poprawną liczbę.\n"
     ]
    },
    {
     "name": "stdin",
     "output_type": "stream",
     "text": [
      "Podaj ocenę 1:  1.5\n",
      "Podaj ocenę 2:  4.8\n"
     ]
    },
    {
     "name": "stdout",
     "output_type": "stream",
     "text": [
      "Średnia: 3.15\n",
      "Uczeń zdał.\n",
      "\n",
      "=== MENU ===\n",
      "1 - Kalkulator\n",
      "2 - Konwerter temperatur\n",
      "3 - Średnia ocen\n",
      "0 - Wyjście\n"
     ]
    }
   ],
   "source": [
    " def kalkulator():\n",
    "    while True:\n",
    "        try:\n",
    "            num1 = float(input(\"Podaj pierwszą liczbę: \"))\n",
    "            break\n",
    "        except ValueError:\n",
    "            print(\"Błąd: Wprowadź liczbę!\")\n",
    "\n",
    "    while True:\n",
    "        try:\n",
    "            num2 = float(input(\"Podaj drugą liczbę: \"))\n",
    "            break\n",
    "        except ValueError:\n",
    "            print(\"Błąd: Wprowadź liczbę!\")\n",
    "\n",
    "    while True:\n",
    "        operation = input(\"Wybierz operację (+, -, *, /): \")\n",
    "        if operation in {\"+\", \"-\", \"*\", \"/\"}:\n",
    "            break\n",
    "        print(\"Błąd: Nieznana operacja. Spróbuj ponownie.\")\n",
    "\n",
    "    match operation:\n",
    "        case \"+\":\n",
    "            result = num1 + num2\n",
    "        case \"-\":\n",
    "            result = num1 - num2\n",
    "        case \"*\":\n",
    "            result = num1 * num2\n",
    "        case \"/\":\n",
    "            result = num1 / num2 if num2 != 0 else \"Błąd: dzielenie przez zero!\"\n",
    "    \n",
    "    print(f\"Wynik: {result}\")\n",
    "\n",
    "def konwerter_temperatur():\n",
    "    while True:\n",
    "        choice = input(\"Wybierz konwersję (C - Celsjusz → Fahrenheit, F - Fahrenheit → Celsjusz): \").upper()\n",
    "        if choice in {\"C\", \"F\"}:\n",
    "            break\n",
    "        print(\"Błąd: Wybierz 'C' lub 'F'.\")\n",
    "\n",
    "    while True:\n",
    "        try:\n",
    "            temp = float(input(\"Podaj temperaturę: \"))\n",
    "            break\n",
    "        except ValueError:\n",
    "            print(\"Błąd: Wprowadź poprawną liczbę.\")\n",
    "\n",
    "    match choice:\n",
    "        case \"C\":\n",
    "            print(f\"{temp}°C = {temp * 1.8 + 32:.2f}°F\")\n",
    "        case \"F\":\n",
    "            print(f\"{temp}°F = {(temp - 32) / 1.8:.2f}°C\")\n",
    "            \n",
    "\n",
    "def srednia_ocen():\n",
    "    while True:\n",
    "        try:\n",
    "            liczba_ocen = int(input(\"Podaj liczbę ocen: \"))\n",
    "            if liczba_ocen <= 0:\n",
    "                print(\"Błąd: Liczba ocen musi być większa od zera.\")\n",
    "                continue\n",
    "            break\n",
    "        except ValueError:\n",
    "            print(\"Błąd: Wprowadź poprawną liczbę całkowitą.\")\n",
    "\n",
    "    suma = 0\n",
    "    for i in range(liczba_ocen):\n",
    "        while True:\n",
    "            try:\n",
    "                ocena = float(input(f\"Podaj ocenę {i + 1}: \"))\n",
    "                if 1.0 <= ocena <= 6.0:\n",
    "                    suma += ocena\n",
    "                    break\n",
    "                else:\n",
    "                    print(\"Błąd: Ocena musi być w zakresie od 1 do 6.\")\n",
    "            except ValueError:\n",
    "                print(\"Błąd: Wprowadź poprawną liczbę.\")\n",
    "\n",
    "    srednia = suma / liczba_ocen\n",
    "    print(f\"Średnia: {srednia:.2f}\")\n",
    "    print(\"Uczeń zdał.\" if srednia >= 3.0 else \"Uczeń nie zdał.\")\n",
    "\n",
    "def main():\n",
    "    while True:\n",
    "        print(\"\\n=== MENU ===\")\n",
    "        print(\"1 - Kalkulator\")\n",
    "        print(\"2 - Konwerter temperatur\")\n",
    "        print(\"3 - Średnia ocen\")\n",
    "        print(\"0 - Wyjście\")\n",
    "        \n",
    "        wybor = input(\"Wybierz opcję: \")\n",
    "        \n",
    "        match wybor:\n",
    "            case \"1\":\n",
    "                kalkulator()\n",
    "            case \"2\":\n",
    "                konwerter_temperatur()\n",
    "            case \"3\":\n",
    "                srednia_ocen()\n",
    "            case \"0\":\n",
    "                break\n",
    "            case _:\n",
    "                print(\"Nieprawidłowy wybór.\")\n",
    "\n",
    "if __name__ == \"__main__\":\n",
    "    main()"
   ]
  },
  {
   "cell_type": "code",
   "execution_count": null,
   "id": "2244b95d-53aa-4a83-9d59-15bdcfc761eb",
   "metadata": {},
   "outputs": [],
   "source": []
  }
 ],
 "metadata": {
  "kernelspec": {
   "display_name": "Python 3 (ipykernel)",
   "language": "python",
   "name": "python3"
  },
  "language_info": {
   "codemirror_mode": {
    "name": "ipython",
    "version": 3
   },
   "file_extension": ".py",
   "mimetype": "text/x-python",
   "name": "python",
   "nbconvert_exporter": "python",
   "pygments_lexer": "ipython3",
   "version": "3.10.10"
  }
 },
 "nbformat": 4,
 "nbformat_minor": 5
}
